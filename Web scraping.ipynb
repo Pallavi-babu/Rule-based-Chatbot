{
  "nbformat": 4,
  "nbformat_minor": 0,
  "metadata": {
    "colab": {
      "name": "Unsupervised (1).ipynb",
      "provenance": [],
      "collapsed_sections": []
    },
    "hide_input": false,
    "kernelspec": {
      "display_name": "Python 3",
      "language": "python",
      "name": "python3"
    },
    "language_info": {
      "codemirror_mode": {
        "name": "ipython",
        "version": 3
      },
      "file_extension": ".py",
      "mimetype": "text/x-python",
      "name": "python",
      "nbconvert_exporter": "python",
      "pygments_lexer": "ipython3",
      "version": "3.8.10"
    },
    "toc": {
      "base_numbering": 1,
      "nav_menu": {},
      "number_sections": true,
      "sideBar": true,
      "skip_h1_title": false,
      "title_cell": "Table of Contents",
      "title_sidebar": "Contents",
      "toc_cell": false,
      "toc_position": {},
      "toc_section_display": true,
      "toc_window_display": false
    },
    "varInspector": {
      "cols": {
        "lenName": 16,
        "lenType": 16,
        "lenVar": 40
      },
      "kernels_config": {
        "python": {
          "delete_cmd_postfix": "",
          "delete_cmd_prefix": "del ",
          "library": "var_list.py",
          "varRefreshCmd": "print(var_dic_list())"
        },
        "r": {
          "delete_cmd_postfix": ") ",
          "delete_cmd_prefix": "rm(",
          "library": "var_list.r",
          "varRefreshCmd": "cat(var_dic_list()) "
        }
      },
      "types_to_exclude": [
        "module",
        "function",
        "builtin_function_or_method",
        "instance",
        "_Feature"
      ],
      "window_display": false
    }
  },
  "cells": [
    {
      "cell_type": "code",
      "metadata": {
        "ExecuteTime": {
          "end_time": "2021-09-18T07:15:18.075087Z",
          "start_time": "2021-09-18T07:15:17.233083Z"
        },
        "id": "WlfW4lXRdbkR"
      },
      "source": [
        "#importing the dependencies\n",
        "import sys\n",
        "import time\n",
        "from bs4 import BeautifulSoup\n",
        "import requests\n",
        "import pandas as pd\n",
        "import re"
      ],
      "execution_count": null,
      "outputs": []
    },
    {
      "cell_type": "code",
      "metadata": {
        "ExecuteTime": {
          "end_time": "2021-09-18T07:15:22.116152Z",
          "start_time": "2021-09-18T07:15:19.024833Z"
        },
        "id": "TCvxjrE73x-D"
      },
      "source": [
        "#Web scraping the hierarchial questions\n",
        "headers = {\n",
        "    'User-agent':\n",
        "    'Mozilla/5.0 (Windows NT 10.0; Win64; x64) AppleWebKit/537.36 (KHTML, like Gecko) Chrome/93.0.4577.82 Safari/537.36'\n",
        "}\n",
        "heirarchial = 'https://www.analyticsvidhya.com/blog/2021/06/20-questions-to-test-your-skills-on-hierarchical-clustering-algorithm/'\n",
        "r_h = requests.get(heirarchial, headers=headers)\n",
        "h_soup = BeautifulSoup(r_h.text, 'html.parser')\n",
        "heir_questions = h_soup.find_all('h2')\n",
        "\n",
        "#Web scraping k-means questions\n",
        "k_means = 'https://www.analyticsvidhya.com/blog/2021/05/20-questions-to-test-your-skills-on-k-means-clustering-algorithm/'\n",
        "r_k = requests.get(k_means, headers=headers)\n",
        "k_soup = BeautifulSoup(r_k.text, 'html.parser')\n",
        "k_questions = k_soup.find_all('h2')\n",
        "\n",
        "#Web scraping PCA questions\n",
        "pca = 'https://alekhyo.medium.com/interview-questions-on-pca-9cdc96ddaa9f'\n",
        "r_pca = requests.get(pca, headers=headers)\n",
        "pca_soup = BeautifulSoup(r_pca.text, 'html.parser')\n",
        "pca_questions = pca_soup.find_all('strong', attrs={'class': 'hm da'})"
      ],
      "execution_count": null,
      "outputs": []
    },
    {
      "cell_type": "code",
      "metadata": {
        "ExecuteTime": {
          "end_time": "2021-09-18T07:15:23.281851Z",
          "start_time": "2021-09-18T07:15:23.267704Z"
        },
        "colab": {
          "base_uri": "https://localhost:8080/"
        },
        "id": "aAy2xKPl2q0S",
        "outputId": "2fe1097c-245c-419b-eb62-64fe9eb6662b"
      },
      "source": [
        "#To Check if we are successfully connected to the web\n",
        "print(r_h.status_code)\n",
        "print(r_k.status_code)\n",
        "print(r_pca.status_code)"
      ],
      "execution_count": null,
      "outputs": [
        {
          "output_type": "stream",
          "name": "stdout",
          "text": [
            "200\n",
            "200\n",
            "200\n"
          ]
        }
      ]
    },
    {
      "cell_type": "code",
      "metadata": {
        "ExecuteTime": {
          "end_time": "2021-09-18T07:15:24.413830Z",
          "start_time": "2021-09-18T07:15:24.403787Z"
        },
        "colab": {
          "base_uri": "https://localhost:8080/"
        },
        "id": "Ex6z7Ygg0mvH",
        "outputId": "abf91199-748e-4d4f-ccaf-09229dfa4356"
      },
      "source": [
        "print(len(heir_questions))\n",
        "print(len(k_questions))\n",
        "print(len(pca_questions))"
      ],
      "execution_count": null,
      "outputs": [
        {
          "output_type": "stream",
          "name": "stdout",
          "text": [
            "26\n",
            "26\n",
            "14\n"
          ]
        }
      ]
    },
    {
      "cell_type": "code",
      "metadata": {
        "ExecuteTime": {
          "end_time": "2021-09-18T07:15:32.150583Z",
          "start_time": "2021-09-18T07:15:32.128542Z"
        },
        "colab": {
          "base_uri": "https://localhost:8080/"
        },
        "id": "rRpAMoF-09e8",
        "outputId": "e80a5ed1-05f6-4213-be14-ba0149ddd70b"
      },
      "source": [
        "heir_ques = []\n",
        "for question in heir_questions:\n",
        "    heir_ques.append(question.text)\n",
        "# Removing unwanted characters '\\xa0'\n",
        "h=[]\n",
        "for question in heir_ques:\n",
        "    question=re.sub('\\xa0',' ',question)\n",
        "    question=re.sub('\\d+. ',\"\",question).strip()\n",
        "    h.append(question)\n",
        "\n",
        "\n",
        "# heir_ques\n",
        "h"
      ],
      "execution_count": null,
      "outputs": [
        {
          "output_type": "execute_result",
          "data": {
            "text/plain": [
              "['Introduction',\n",
              " 'Let’s get started,',\n",
              " 'What do you mean by Clustering?',\n",
              " 'What is a Hierarchical Clustering Algorithm?',\n",
              " 'What are the various types of Hierarchical Clustering?',\n",
              " 'Explain the Agglomerative Hierarchical Clustering algorithm with the help of an example.',\n",
              " 'Describe the Divisive Hierarchical Clustering Algorithm in detail.',\n",
              " 'Explain the different linkage methods used in the Hierarchical Clustering Algorithm.',\n",
              " 'List down the pros and cons of complete and single linkages methods in the Hierarchical Clustering Algorithm.',\n",
              " 'What is the group average method for calculating the similarity between two clusters for the Hierarchical Clustering Algorithm?',\n",
              " 'Explain Ward’s method for calculating the similarity between two clusters in the Hierarchical Clustering Algorithm.',\n",
              " 'What is a dendrogram in Hierarchical Clustering Algorithm?',\n",
              " 'Explain the working of dendrogram in the agglomerative Hierarchical Clustering Algorithm.',\n",
              " 'Explain the different parts of dendrograms in the Hierarchical Clustering Algorithm.',\n",
              " 'How can you find the clusters to have upon looking at the dendrogram?',\n",
              " 'What is Space and Time Complexity of the Hierarchical Clustering Algorithm?',\n",
              " 'List down some of the possible conditions for producing two different dendrograms using an agglomerative Clustering algorithm with the same dataset.',\n",
              " 'For the dendrogram given below, find the most appropriate number of clusters for the data points of the given dataset.',\n",
              " 'What are the conditions to stop combining the clusters in the Hierarchical Clustering Algorithm?',\n",
              " 'How to Find the Optimal Number of Clusters in Agglomerative Clustering Algorithm?',\n",
              " 'How can we measure the goodness of the clusters in the Hierarchical Clustering Algorithm?',\n",
              " 'What are the advantages and disadvantages of the Hierarchical Clustering Algorithm?',\n",
              " 'End Notes',\n",
              " 'Chirag Goyal',\n",
              " 'Top Resources',\n",
              " '×']"
            ]
          },
          "metadata": {},
          "execution_count": 5
        }
      ]
    },
    {
      "cell_type": "markdown",
      "metadata": {
        "id": "6fj655VWdFhI"
      },
      "source": [
        "As we can see from the above list, we have retrieved some of the sentences that are not questions as these sentences have the same tag as our questions."
      ]
    },
    {
      "cell_type": "markdown",
      "metadata": {
        "id": "FYs5ye2qdgss"
      },
      "source": [
        "Let us go ahead and remove these unwanted sentences from the list."
      ]
    },
    {
      "cell_type": "code",
      "metadata": {
        "ExecuteTime": {
          "end_time": "2021-09-18T07:17:14.275388Z",
          "start_time": "2021-09-18T07:17:14.262010Z"
        },
        "colab": {
          "base_uri": "https://localhost:8080/"
        },
        "id": "0d_JduQ_1Gnp",
        "outputId": "8610e057-8f74-4804-a8be-76b94c017c8a"
      },
      "source": [
        "#Remove first two and last four elements from the list\n",
        "heir_ques = h[2:len(heir_ques) - 4]\n",
        "heir_ques"
      ],
      "execution_count": null,
      "outputs": [
        {
          "output_type": "execute_result",
          "data": {
            "text/plain": [
              "['What do you mean by Clustering?',\n",
              " 'What is a Hierarchical Clustering Algorithm?',\n",
              " 'What are the various types of Hierarchical Clustering?',\n",
              " 'Explain the Agglomerative Hierarchical Clustering algorithm with the help of an example.',\n",
              " 'Describe the Divisive Hierarchical Clustering Algorithm in detail.',\n",
              " 'Explain the different linkage methods used in the Hierarchical Clustering Algorithm.',\n",
              " 'List down the pros and cons of complete and single linkages methods in the Hierarchical Clustering Algorithm.',\n",
              " 'What is the group average method for calculating the similarity between two clusters for the Hierarchical Clustering Algorithm?',\n",
              " 'Explain Ward’s method for calculating the similarity between two clusters in the Hierarchical Clustering Algorithm.',\n",
              " 'What is a dendrogram in Hierarchical Clustering Algorithm?',\n",
              " 'Explain the working of dendrogram in the agglomerative Hierarchical Clustering Algorithm.',\n",
              " 'Explain the different parts of dendrograms in the Hierarchical Clustering Algorithm.',\n",
              " 'How can you find the clusters to have upon looking at the dendrogram?',\n",
              " 'What is Space and Time Complexity of the Hierarchical Clustering Algorithm?',\n",
              " 'List down some of the possible conditions for producing two different dendrograms using an agglomerative Clustering algorithm with the same dataset.',\n",
              " 'For the dendrogram given below, find the most appropriate number of clusters for the data points of the given dataset.',\n",
              " 'What are the conditions to stop combining the clusters in the Hierarchical Clustering Algorithm?',\n",
              " 'How to Find the Optimal Number of Clusters in Agglomerative Clustering Algorithm?',\n",
              " 'How can we measure the goodness of the clusters in the Hierarchical Clustering Algorithm?',\n",
              " 'What are the advantages and disadvantages of the Hierarchical Clustering Algorithm?']"
            ]
          },
          "metadata": {},
          "execution_count": 6
        }
      ]
    },
    {
      "cell_type": "markdown",
      "metadata": {
        "id": "zas124wDd91B"
      },
      "source": [
        "Similarly, unwanted sentences are removed from k_means questions list too"
      ]
    },
    {
      "cell_type": "code",
      "metadata": {
        "ExecuteTime": {
          "end_time": "2021-09-18T07:17:22.550187Z",
          "start_time": "2021-09-18T07:17:22.531035Z"
        },
        "colab": {
          "base_uri": "https://localhost:8080/"
        },
        "id": "bj3lWi3Hy6j_",
        "outputId": "287abd78-c4fd-42d5-ad74-045cc6ea55e1"
      },
      "source": [
        "k_ques = []\n",
        "for question in k_questions:\n",
        "    k_ques.append(question.text)\n",
        "k_ques\n",
        "\n",
        "# Removing unwanted characters '\\xa0' and digits\n",
        "k=[]\n",
        "for question in k_ques:\n",
        "    question=re.sub('\\xa0',' ',question)\n",
        "    question=re.sub('\\d+. ',\"\",question).strip()\n",
        "    k.append(question)\n",
        "\n",
        "\n",
        "# heir_ques\n",
        "k"
      ],
      "execution_count": null,
      "outputs": [
        {
          "output_type": "execute_result",
          "data": {
            "text/plain": [
              "['Introduction',\n",
              " 'What is K means Clustering Algorithm?',\n",
              " 'What is Lloyd’s algorithm for Clustering?',\n",
              " 'Is Feature Scaling required for the K means Algorithm?',\n",
              " 'Why do you prefer Euclidean distance over Manhattan distance in the K means Algorithm?',\n",
              " 'Why is the plot of the within-cluster sum of squares error (inertia) vs K in K means clustering algorithm elbow-shaped? Discuss if there exists any other possibility for the same with proper explanation.',\n",
              " 'Which metrics can you use to find the accuracy of the K means Algorithm?',\n",
              " 'What is a centroid point in K means Clustering?',\n",
              " 'Does centroid initialization affect K means Algorithm?',\n",
              " 'Discuss the optimization function for the K means Algorithm.',\n",
              " 'What are the advantages and disadvantages of the K means Algorithm?',\n",
              " 'What are the challenges associated with K means Clustering?',\n",
              " 'What are the ways to avoid the problem of initialization sensitivity in the K means Algorithm?',\n",
              " 'What is the difference between K means and K means++ Clustering?',\n",
              " 'How K means++ clustering Algorithm works?',\n",
              " 'How to decide the optimal number of K in the K means Algorithm?',\n",
              " 'What is the training and testing complexity of the K means Algorithm?',\n",
              " 'Is it possible that the assignment of data points to clusters does not change between successive iterations in the K means Algorithm?',\n",
              " 'Explain some cases where K means clustering fails to give good results.',\n",
              " 'How to perform K means on larger datasets to make it faster?',\n",
              " 'What are the possible stopping conditions in the K means Algorithm?',\n",
              " 'What is the effect of the number of variables on the K means Algorithm?',\n",
              " 'End Notes',\n",
              " 'Chirag Goyal',\n",
              " 'Top Resources',\n",
              " '×']"
            ]
          },
          "metadata": {},
          "execution_count": 7
        }
      ]
    },
    {
      "cell_type": "code",
      "metadata": {
        "ExecuteTime": {
          "end_time": "2021-09-18T07:17:26.116781Z",
          "start_time": "2021-09-18T07:17:26.110528Z"
        },
        "colab": {
          "base_uri": "https://localhost:8080/"
        },
        "id": "XaptZ9oBzODU",
        "outputId": "c5d6d334-29e2-4e09-9958-0e4e944b49b0"
      },
      "source": [
        "k_ques = k[1:len(k) - 4]\n",
        "k_ques"
      ],
      "execution_count": null,
      "outputs": [
        {
          "output_type": "execute_result",
          "data": {
            "text/plain": [
              "['What is K means Clustering Algorithm?',\n",
              " 'What is Lloyd’s algorithm for Clustering?',\n",
              " 'Is Feature Scaling required for the K means Algorithm?',\n",
              " 'Why do you prefer Euclidean distance over Manhattan distance in the K means Algorithm?',\n",
              " 'Why is the plot of the within-cluster sum of squares error (inertia) vs K in K means clustering algorithm elbow-shaped? Discuss if there exists any other possibility for the same with proper explanation.',\n",
              " 'Which metrics can you use to find the accuracy of the K means Algorithm?',\n",
              " 'What is a centroid point in K means Clustering?',\n",
              " 'Does centroid initialization affect K means Algorithm?',\n",
              " 'Discuss the optimization function for the K means Algorithm.',\n",
              " 'What are the advantages and disadvantages of the K means Algorithm?',\n",
              " 'What are the challenges associated with K means Clustering?',\n",
              " 'What are the ways to avoid the problem of initialization sensitivity in the K means Algorithm?',\n",
              " 'What is the difference between K means and K means++ Clustering?',\n",
              " 'How K means++ clustering Algorithm works?',\n",
              " 'How to decide the optimal number of K in the K means Algorithm?',\n",
              " 'What is the training and testing complexity of the K means Algorithm?',\n",
              " 'Is it possible that the assignment of data points to clusters does not change between successive iterations in the K means Algorithm?',\n",
              " 'Explain some cases where K means clustering fails to give good results.',\n",
              " 'How to perform K means on larger datasets to make it faster?',\n",
              " 'What are the possible stopping conditions in the K means Algorithm?',\n",
              " 'What is the effect of the number of variables on the K means Algorithm?']"
            ]
          },
          "metadata": {},
          "execution_count": 8
        }
      ]
    },
    {
      "cell_type": "code",
      "metadata": {
        "ExecuteTime": {
          "end_time": "2021-09-18T07:17:33.710963Z",
          "start_time": "2021-09-18T07:17:33.690245Z"
        },
        "colab": {
          "base_uri": "https://localhost:8080/"
        },
        "id": "DZohpzBUJ3pX",
        "outputId": "21e9f410-e0c5-41fa-f398-f3ab0e6efdcd"
      },
      "source": [
        "# using RE to remove unwanted characters\n",
        "pca_ques = []\n",
        "for question in pca_questions:\n",
        "    pca_ques.append(question.text)\n",
        "\n",
        "# using RE to remove unwanted characters\n",
        "pca = []\n",
        "for x in pca_ques:\n",
        "    pca.append(re.sub('\\d+. ',\"\",x).strip())\n",
        "pca_ques = pca\n",
        "pca_ques"
      ],
      "execution_count": null,
      "outputs": [
        {
          "output_type": "execute_result",
          "data": {
            "text/plain": [
              "['Explain the Curse of Dimensionality?',\n",
              " 'Why do we need dimensionality reduction? What are its drawbacks?',\n",
              " 'Explain Principal Component Analysis, assumptions, equations.',\n",
              " 'linear relationship between all variables',\n",
              " 'sampling adequacy',\n",
              " 'suitable for data reduction',\n",
              " 'no significant outliers',\n",
              " 'Can PCA be used to reduce the dimensionality of a highly nonlinear dataset?',\n",
              " 'Limitations of PCA?',\n",
              " 'Is rotation necessary in PCA? If yes, Why? What will happen if you don’t rotate the components?',\n",
              " 'Is it important to standardize before applying PCA?',\n",
              " 'Should one remove highly correlated variables before doing PCA?',\n",
              " 'What will happen when eigenvalues are roughly equal?',\n",
              " 'How can you evaluate the performance of a dimensionality reduction algorithm on your dataset?']"
            ]
          },
          "metadata": {},
          "execution_count": 9
        }
      ]
    },
    {
      "cell_type": "code",
      "metadata": {
        "ExecuteTime": {
          "end_time": "2021-09-18T07:17:35.900229Z",
          "start_time": "2021-09-18T07:17:35.885477Z"
        },
        "colab": {
          "base_uri": "https://localhost:8080/"
        },
        "id": "5XO_vE1cKA2u",
        "outputId": "f215c3f4-4118-4f6d-d36d-80369e4df967"
      },
      "source": [
        "#Third to sixth elements are deleted from pca_questions list\n",
        "del pca_ques[3:7]\n",
        "pca_ques"
      ],
      "execution_count": null,
      "outputs": [
        {
          "output_type": "execute_result",
          "data": {
            "text/plain": [
              "['Explain the Curse of Dimensionality?',\n",
              " 'Why do we need dimensionality reduction? What are its drawbacks?',\n",
              " 'Explain Principal Component Analysis, assumptions, equations.',\n",
              " 'Can PCA be used to reduce the dimensionality of a highly nonlinear dataset?',\n",
              " 'Limitations of PCA?',\n",
              " 'Is rotation necessary in PCA? If yes, Why? What will happen if you don’t rotate the components?',\n",
              " 'Is it important to standardize before applying PCA?',\n",
              " 'Should one remove highly correlated variables before doing PCA?',\n",
              " 'What will happen when eigenvalues are roughly equal?',\n",
              " 'How can you evaluate the performance of a dimensionality reduction algorithm on your dataset?']"
            ]
          },
          "metadata": {},
          "execution_count": 10
        }
      ]
    },
    {
      "cell_type": "code",
      "metadata": {
        "ExecuteTime": {
          "end_time": "2021-09-18T07:17:40.714494Z",
          "start_time": "2021-09-18T07:17:40.699946Z"
        },
        "colab": {
          "base_uri": "https://localhost:8080/"
        },
        "id": "4VGUcMjKz8Fy",
        "outputId": "74e3316c-51e5-4bed-baad-7805bc41b4ac"
      },
      "source": [
        "#Joining the lists\n",
        "unsupervised_ques = heir_ques + k_ques + pca_ques\n",
        "len(unsupervised_ques)"
      ],
      "execution_count": null,
      "outputs": [
        {
          "output_type": "execute_result",
          "data": {
            "text/plain": [
              "51"
            ]
          },
          "metadata": {},
          "execution_count": 11
        }
      ]
    },
    {
      "cell_type": "markdown",
      "metadata": {
        "id": "dgsr4rzpeYde"
      },
      "source": [
        "We have a total of 51 unsupervised learning questions from three different algorithms."
      ]
    },
    {
      "cell_type": "code",
      "metadata": {
        "ExecuteTime": {
          "end_time": "2021-09-18T07:17:43.603984Z",
          "start_time": "2021-09-18T07:17:43.583205Z"
        },
        "colab": {
          "base_uri": "https://localhost:8080/",
          "height": 205
        },
        "id": "JFYmhUlMwZ4B",
        "outputId": "5c1fc612-5936-44b3-d0e9-ab256265646f"
      },
      "source": [
        "#Converting to dataframe\n",
        "\n",
        "unsupervised_df = pd.DataFrame(unsupervised_ques)\n",
        "unsupervised_df.columns = ['Questions']\n",
        "unsupervised_df.head()"
      ],
      "execution_count": null,
      "outputs": [
        {
          "output_type": "execute_result",
          "data": {
            "text/html": [
              "<div>\n",
              "<style scoped>\n",
              "    .dataframe tbody tr th:only-of-type {\n",
              "        vertical-align: middle;\n",
              "    }\n",
              "\n",
              "    .dataframe tbody tr th {\n",
              "        vertical-align: top;\n",
              "    }\n",
              "\n",
              "    .dataframe thead th {\n",
              "        text-align: right;\n",
              "    }\n",
              "</style>\n",
              "<table border=\"1\" class=\"dataframe\">\n",
              "  <thead>\n",
              "    <tr style=\"text-align: right;\">\n",
              "      <th></th>\n",
              "      <th>Questions</th>\n",
              "    </tr>\n",
              "  </thead>\n",
              "  <tbody>\n",
              "    <tr>\n",
              "      <th>0</th>\n",
              "      <td>What do you mean by Clustering?</td>\n",
              "    </tr>\n",
              "    <tr>\n",
              "      <th>1</th>\n",
              "      <td>What is a Hierarchical Clustering Algorithm?</td>\n",
              "    </tr>\n",
              "    <tr>\n",
              "      <th>2</th>\n",
              "      <td>What are the various types of Hierarchical Clu...</td>\n",
              "    </tr>\n",
              "    <tr>\n",
              "      <th>3</th>\n",
              "      <td>Explain the Agglomerative Hierarchical Cluster...</td>\n",
              "    </tr>\n",
              "    <tr>\n",
              "      <th>4</th>\n",
              "      <td>Describe the Divisive Hierarchical Clustering ...</td>\n",
              "    </tr>\n",
              "  </tbody>\n",
              "</table>\n",
              "</div>"
            ],
            "text/plain": [
              "                                           Questions\n",
              "0                    What do you mean by Clustering?\n",
              "1       What is a Hierarchical Clustering Algorithm?\n",
              "2  What are the various types of Hierarchical Clu...\n",
              "3  Explain the Agglomerative Hierarchical Cluster...\n",
              "4  Describe the Divisive Hierarchical Clustering ..."
            ]
          },
          "metadata": {},
          "execution_count": 12
        }
      ]
    },
    {
      "cell_type": "code",
      "metadata": {
        "ExecuteTime": {
          "end_time": "2021-09-18T07:08:21.730202Z",
          "start_time": "2021-09-18T07:08:21.717281Z"
        },
        "id": "HAv5UxTy1DWh"
      },
      "source": [
        "# Export dataframe to csv file\n",
        "unsupervised_df.to_csv('unsupervised_ques.csv',index=False)"
      ],
      "execution_count": null,
      "outputs": []
    },
    {
      "cell_type": "markdown",
      "metadata": {
        "id": "1TU-Ll4GexuR"
      },
      "source": [
        "Similarly, the questions and answers for supervised algorithms were extracted from the web. \n",
        "\n",
        "\n",
        "\n",
        "Every single answer had multiple sentences of bold, italics, symbols, diagrams etc., and it was a tedious job to scrape them as they had multiple tags. Therefore some of the answers for these questions were directly copied from the web to the csv file exported."
      ]
    },
    {
      "cell_type": "code",
      "metadata": {
        "colab": {
          "base_uri": "https://localhost:8080/",
          "height": 205
        },
        "id": "hO2gsEJCVA1N",
        "outputId": "de832679-7a9a-4d63-9835-cd11d09e0e5b"
      },
      "source": [
        "#Load the file with questions and answers\n",
        "unsupervised = pd.read_csv('/content/unsupervised_data.csv',\n",
        "                           encoding='windows-1252')\n",
        "unsupervised.head()"
      ],
      "execution_count": null,
      "outputs": [
        {
          "output_type": "execute_result",
          "data": {
            "text/html": [
              "<div>\n",
              "<style scoped>\n",
              "    .dataframe tbody tr th:only-of-type {\n",
              "        vertical-align: middle;\n",
              "    }\n",
              "\n",
              "    .dataframe tbody tr th {\n",
              "        vertical-align: top;\n",
              "    }\n",
              "\n",
              "    .dataframe thead th {\n",
              "        text-align: right;\n",
              "    }\n",
              "</style>\n",
              "<table border=\"1\" class=\"dataframe\">\n",
              "  <thead>\n",
              "    <tr style=\"text-align: right;\">\n",
              "      <th></th>\n",
              "      <th>Questions</th>\n",
              "      <th>Answers</th>\n",
              "    </tr>\n",
              "  </thead>\n",
              "  <tbody>\n",
              "    <tr>\n",
              "      <th>0</th>\n",
              "      <td>What do you mean by Clustering?</td>\n",
              "      <td>Clustering is an unsupervised machine learning...</td>\n",
              "    </tr>\n",
              "    <tr>\n",
              "      <th>1</th>\n",
              "      <td>What is a Hierarchical Clustering Algorithm?</td>\n",
              "      <td>Hierarchical Clustering i.e, an unsupervised m...</td>\n",
              "    </tr>\n",
              "    <tr>\n",
              "      <th>2</th>\n",
              "      <td>What are the various types of Hierarchical Clu...</td>\n",
              "      <td>The two different types of Hierarchical Cluste...</td>\n",
              "    </tr>\n",
              "    <tr>\n",
              "      <th>3</th>\n",
              "      <td>Explain the Agglomerative Hierarchical Cluster...</td>\n",
              "      <td>Initially, each data point is considered as an...</td>\n",
              "    </tr>\n",
              "    <tr>\n",
              "      <th>4</th>\n",
              "      <td>Describe the Divisive Hierarchical Clustering ...</td>\n",
              "      <td>In simple words, Divisive Hierarchical Cluster...</td>\n",
              "    </tr>\n",
              "  </tbody>\n",
              "</table>\n",
              "</div>"
            ],
            "text/plain": [
              "                                           Questions                                            Answers\n",
              "0                    What do you mean by Clustering?  Clustering is an unsupervised machine learning...\n",
              "1       What is a Hierarchical Clustering Algorithm?  Hierarchical Clustering i.e, an unsupervised m...\n",
              "2  What are the various types of Hierarchical Clu...  The two different types of Hierarchical Cluste...\n",
              "3  Explain the Agglomerative Hierarchical Cluster...  Initially, each data point is considered as an...\n",
              "4  Describe the Divisive Hierarchical Clustering ...  In simple words, Divisive Hierarchical Cluster..."
            ]
          },
          "metadata": {},
          "execution_count": 3
        }
      ]
    },
    {
      "cell_type": "code",
      "metadata": {
        "id": "u8lAKru_WEVJ"
      },
      "source": [
        "#Create Labels column and assign the respective labels to the questions\n",
        "unsupervised['Labels'] = 'Hierarchial'\n",
        "unsupervised['Labels'].iloc[20:41] = 'k_means'\n",
        "unsupervised['Labels'].iloc[41:] = 'PCA'"
      ],
      "execution_count": null,
      "outputs": []
    },
    {
      "cell_type": "code",
      "metadata": {
        "colab": {
          "base_uri": "https://localhost:8080/",
          "height": 1000
        },
        "id": "WeSrv_5mbxpS",
        "outputId": "d57f8bd0-3d02-41cd-d760-81a9056591a5"
      },
      "source": [
        "unsupervised"
      ],
      "execution_count": null,
      "outputs": [
        {
          "output_type": "execute_result",
          "data": {
            "text/html": [
              "<div>\n",
              "<style scoped>\n",
              "    .dataframe tbody tr th:only-of-type {\n",
              "        vertical-align: middle;\n",
              "    }\n",
              "\n",
              "    .dataframe tbody tr th {\n",
              "        vertical-align: top;\n",
              "    }\n",
              "\n",
              "    .dataframe thead th {\n",
              "        text-align: right;\n",
              "    }\n",
              "</style>\n",
              "<table border=\"1\" class=\"dataframe\">\n",
              "  <thead>\n",
              "    <tr style=\"text-align: right;\">\n",
              "      <th></th>\n",
              "      <th>Questions</th>\n",
              "      <th>Answers</th>\n",
              "      <th>Labels</th>\n",
              "    </tr>\n",
              "  </thead>\n",
              "  <tbody>\n",
              "    <tr>\n",
              "      <th>0</th>\n",
              "      <td>What do you mean by Clustering?</td>\n",
              "      <td>Clustering is an unsupervised machine learning...</td>\n",
              "      <td>Hierarchial</td>\n",
              "    </tr>\n",
              "    <tr>\n",
              "      <th>1</th>\n",
              "      <td>What is a Hierarchical Clustering Algorithm?</td>\n",
              "      <td>Hierarchical Clustering i.e, an unsupervised m...</td>\n",
              "      <td>Hierarchial</td>\n",
              "    </tr>\n",
              "    <tr>\n",
              "      <th>2</th>\n",
              "      <td>What are the various types of Hierarchical Clu...</td>\n",
              "      <td>The two different types of Hierarchical Cluste...</td>\n",
              "      <td>Hierarchial</td>\n",
              "    </tr>\n",
              "    <tr>\n",
              "      <th>3</th>\n",
              "      <td>Explain the Agglomerative Hierarchical Cluster...</td>\n",
              "      <td>Initially, each data point is considered as an...</td>\n",
              "      <td>Hierarchial</td>\n",
              "    </tr>\n",
              "    <tr>\n",
              "      <th>4</th>\n",
              "      <td>Describe the Divisive Hierarchical Clustering ...</td>\n",
              "      <td>In simple words, Divisive Hierarchical Cluster...</td>\n",
              "      <td>Hierarchial</td>\n",
              "    </tr>\n",
              "    <tr>\n",
              "      <th>5</th>\n",
              "      <td>Explain the different linkage methods used in ...</td>\n",
              "      <td>The popular linkage methods used in Hierarchic...</td>\n",
              "      <td>Hierarchial</td>\n",
              "    </tr>\n",
              "    <tr>\n",
              "      <th>6</th>\n",
              "      <td>List down the pros and cons of complete and si...</td>\n",
              "      <td>Pros of Single-linkage: This approach can diff...</td>\n",
              "      <td>Hierarchial</td>\n",
              "    </tr>\n",
              "    <tr>\n",
              "      <th>7</th>\n",
              "      <td>What is the group average method for calculati...</td>\n",
              "      <td>In the group average method, we take all the p...</td>\n",
              "      <td>Hierarchial</td>\n",
              "    </tr>\n",
              "    <tr>\n",
              "      <th>8</th>\n",
              "      <td>Explain Ward's method for calculating the simi...</td>\n",
              "      <td>In this method, we find the similarity between...</td>\n",
              "      <td>Hierarchial</td>\n",
              "    </tr>\n",
              "    <tr>\n",
              "      <th>9</th>\n",
              "      <td>What is a dendrogram in Hierarchical Clusterin...</td>\n",
              "      <td>A dendrogram is defined as a tree-like structu...</td>\n",
              "      <td>Hierarchial</td>\n",
              "    </tr>\n",
              "    <tr>\n",
              "      <th>10</th>\n",
              "      <td>Explain the working of dendrogram in the agglo...</td>\n",
              "      <td>Step by step working of the algorithm:\\nStep-1...</td>\n",
              "      <td>Hierarchial</td>\n",
              "    </tr>\n",
              "    <tr>\n",
              "      <th>11</th>\n",
              "      <td>Explain the different parts of dendrograms in ...</td>\n",
              "      <td>A dendrogram can be understood as a column gra...</td>\n",
              "      <td>Hierarchial</td>\n",
              "    </tr>\n",
              "    <tr>\n",
              "      <th>12</th>\n",
              "      <td>How can you find the clusters to have upon loo...</td>\n",
              "      <td>In a dendrogram, look for the largest vertical...</td>\n",
              "      <td>Hierarchial</td>\n",
              "    </tr>\n",
              "    <tr>\n",
              "      <th>13</th>\n",
              "      <td>What is Space and Time Complexity of the Hiera...</td>\n",
              "      <td>Space complexity: Hierarchical Clustering Tech...</td>\n",
              "      <td>Hierarchial</td>\n",
              "    </tr>\n",
              "    <tr>\n",
              "      <th>14</th>\n",
              "      <td>List down some of the possible conditions for ...</td>\n",
              "      <td>The given situation happens due to either Chan...</td>\n",
              "      <td>Hierarchial</td>\n",
              "    </tr>\n",
              "    <tr>\n",
              "      <th>15</th>\n",
              "      <td>For the dendrogram given below, find the most ...</td>\n",
              "      <td>To take the decision for the number of cluster...</td>\n",
              "      <td>Hierarchial</td>\n",
              "    </tr>\n",
              "    <tr>\n",
              "      <th>16</th>\n",
              "      <td>What are the conditions to stop combining the ...</td>\n",
              "      <td>Some of the popular approaches to stop combini...</td>\n",
              "      <td>Hierarchial</td>\n",
              "    </tr>\n",
              "    <tr>\n",
              "      <th>17</th>\n",
              "      <td>How to Find the Optimal Number of Clusters in ...</td>\n",
              "      <td>To find the optimal number of clusters, Silhou...</td>\n",
              "      <td>Hierarchial</td>\n",
              "    </tr>\n",
              "    <tr>\n",
              "      <th>18</th>\n",
              "      <td>How can we measure the goodness of the cluster...</td>\n",
              "      <td>There are many measures to find the goodness o...</td>\n",
              "      <td>Hierarchial</td>\n",
              "    </tr>\n",
              "    <tr>\n",
              "      <th>19</th>\n",
              "      <td>What are the advantages and disadvantages of t...</td>\n",
              "      <td>Advantages of Hierarchical Clustering:\\nWe can...</td>\n",
              "      <td>Hierarchial</td>\n",
              "    </tr>\n",
              "    <tr>\n",
              "      <th>20</th>\n",
              "      <td>What is K means Clustering Algorithm?</td>\n",
              "      <td>K Means algorithm is a centroid-based clusteri...</td>\n",
              "      <td>k_means</td>\n",
              "    </tr>\n",
              "    <tr>\n",
              "      <th>21</th>\n",
              "      <td>What is Lloyd's algorithm for Clustering?</td>\n",
              "      <td>It is an approximation iterative algorithm tha...</td>\n",
              "      <td>k_means</td>\n",
              "    </tr>\n",
              "    <tr>\n",
              "      <th>22</th>\n",
              "      <td>Is Feature Scaling required for the K means Al...</td>\n",
              "      <td>Yes, K-Means typically needs to have some form...</td>\n",
              "      <td>k_means</td>\n",
              "    </tr>\n",
              "    <tr>\n",
              "      <th>23</th>\n",
              "      <td>Why do you prefer Euclidean distance over Manh...</td>\n",
              "      <td>Euclidean distance is preferred over Manhattan...</td>\n",
              "      <td>k_means</td>\n",
              "    </tr>\n",
              "    <tr>\n",
              "      <th>24</th>\n",
              "      <td>Why is the plot of the within-cluster sum of s...</td>\n",
              "      <td>Say, we have 10 different data points present,...</td>\n",
              "      <td>k_means</td>\n",
              "    </tr>\n",
              "    <tr>\n",
              "      <th>25</th>\n",
              "      <td>Which metrics can you use to find the accuracy...</td>\n",
              "      <td>There does not exist a correct answer to this ...</td>\n",
              "      <td>k_means</td>\n",
              "    </tr>\n",
              "    <tr>\n",
              "      <th>26</th>\n",
              "      <td>What is a centroid point in K means Clustering?</td>\n",
              "      <td>Centroid point is the point that acts as a rep...</td>\n",
              "      <td>k_means</td>\n",
              "    </tr>\n",
              "    <tr>\n",
              "      <th>27</th>\n",
              "      <td>Does centroid initialization affect K means Al...</td>\n",
              "      <td>Yes, the final results of the k means algorith...</td>\n",
              "      <td>k_means</td>\n",
              "    </tr>\n",
              "    <tr>\n",
              "      <th>28</th>\n",
              "      <td>Discuss the optimization function for the K me...</td>\n",
              "      <td>The objective of the K-Means algorithm is to f...</td>\n",
              "      <td>k_means</td>\n",
              "    </tr>\n",
              "    <tr>\n",
              "      <th>29</th>\n",
              "      <td>What are the advantages and disadvantages of t...</td>\n",
              "      <td>Advantages:\\nEasy to understand and implement....</td>\n",
              "      <td>k_means</td>\n",
              "    </tr>\n",
              "    <tr>\n",
              "      <th>30</th>\n",
              "      <td>What are the challenges associated with K mean...</td>\n",
              "      <td>The major challenge associated with k means cl...</td>\n",
              "      <td>k_means</td>\n",
              "    </tr>\n",
              "    <tr>\n",
              "      <th>31</th>\n",
              "      <td>What are the ways to avoid the problem of init...</td>\n",
              "      <td>There are two ways to avoid the problem of ini...</td>\n",
              "      <td>k_means</td>\n",
              "    </tr>\n",
              "    <tr>\n",
              "      <th>32</th>\n",
              "      <td>What is the difference between K means and K m...</td>\n",
              "      <td>In k-means, we randomly initialized the k numb...</td>\n",
              "      <td>k_means</td>\n",
              "    </tr>\n",
              "    <tr>\n",
              "      <th>33</th>\n",
              "      <td>How K means++ clustering Algorithm works?</td>\n",
              "      <td>K Means++ algorithm is a smart technique for c...</td>\n",
              "      <td>k_means</td>\n",
              "    </tr>\n",
              "    <tr>\n",
              "      <th>34</th>\n",
              "      <td>How to decide the optimal number of K in the K...</td>\n",
              "      <td>In order to find the optimal value of k, we ne...</td>\n",
              "      <td>k_means</td>\n",
              "    </tr>\n",
              "    <tr>\n",
              "      <th>35</th>\n",
              "      <td>What is the training and testing complexity of...</td>\n",
              "      <td>If we use Lloyd’s algorithm, the complexity fo...</td>\n",
              "      <td>k_means</td>\n",
              "    </tr>\n",
              "    <tr>\n",
              "      <th>36</th>\n",
              "      <td>Is it possible that the assignment of data poi...</td>\n",
              "      <td>When the K-Means algorithm has reached the loc...</td>\n",
              "      <td>k_means</td>\n",
              "    </tr>\n",
              "    <tr>\n",
              "      <th>37</th>\n",
              "      <td>Explain some cases where K means clustering fa...</td>\n",
              "      <td>The K means clustering algorithm fails to give...</td>\n",
              "      <td>k_means</td>\n",
              "    </tr>\n",
              "    <tr>\n",
              "      <th>38</th>\n",
              "      <td>How to perform K means on larger datasets to m...</td>\n",
              "      <td>The idea behind this is mini-batch k means, wh...</td>\n",
              "      <td>k_means</td>\n",
              "    </tr>\n",
              "    <tr>\n",
              "      <th>39</th>\n",
              "      <td>What are the possible stopping conditions in t...</td>\n",
              "      <td>The following can be used as possible stopping...</td>\n",
              "      <td>k_means</td>\n",
              "    </tr>\n",
              "    <tr>\n",
              "      <th>40</th>\n",
              "      <td>What is the effect of the number of variables ...</td>\n",
              "      <td>The number of variables going into K means the...</td>\n",
              "      <td>k_means</td>\n",
              "    </tr>\n",
              "    <tr>\n",
              "      <th>41</th>\n",
              "      <td>Explain the Curse of Dimensionality?</td>\n",
              "      <td>The curse of dimensionality refers to all the ...</td>\n",
              "      <td>PCA</td>\n",
              "    </tr>\n",
              "    <tr>\n",
              "      <th>42</th>\n",
              "      <td>Why do we need dimensionality reduction? What ...</td>\n",
              "      <td>In Machine Learning, dimension refers to the n...</td>\n",
              "      <td>PCA</td>\n",
              "    </tr>\n",
              "    <tr>\n",
              "      <th>43</th>\n",
              "      <td>Explain Principal Component Analysis, assumpti...</td>\n",
              "      <td>Principal Component Analysis (PCA) is an unsup...</td>\n",
              "      <td>PCA</td>\n",
              "    </tr>\n",
              "    <tr>\n",
              "      <th>44</th>\n",
              "      <td>Can PCA be used to reduce the dimensionality o...</td>\n",
              "      <td>PCA can be used to significantly reduce the di...</td>\n",
              "      <td>PCA</td>\n",
              "    </tr>\n",
              "    <tr>\n",
              "      <th>45</th>\n",
              "      <td>Limitations of PCA?</td>\n",
              "      <td>1. Doesn’t work well for non linearly correlat...</td>\n",
              "      <td>PCA</td>\n",
              "    </tr>\n",
              "    <tr>\n",
              "      <th>46</th>\n",
              "      <td>Is rotation necessary in PCA? If yes, Why? Wha...</td>\n",
              "      <td>Yes, rotation (orthogonal) is necessary to acc...</td>\n",
              "      <td>PCA</td>\n",
              "    </tr>\n",
              "    <tr>\n",
              "      <th>47</th>\n",
              "      <td>Is it important to standardize before applying...</td>\n",
              "      <td>PCA finds new directions based on the covarian...</td>\n",
              "      <td>PCA</td>\n",
              "    </tr>\n",
              "    <tr>\n",
              "      <th>48</th>\n",
              "      <td>Should one remove highly correlated variables ...</td>\n",
              "      <td>No, PCA loads out all highly correlated variab...</td>\n",
              "      <td>PCA</td>\n",
              "    </tr>\n",
              "    <tr>\n",
              "      <th>49</th>\n",
              "      <td>What will happen when eigenvalues are roughly ...</td>\n",
              "      <td>If all eigenvectors are same then PCA won’t be...</td>\n",
              "      <td>PCA</td>\n",
              "    </tr>\n",
              "    <tr>\n",
              "      <th>50</th>\n",
              "      <td>How can you evaluate the performance of a dime...</td>\n",
              "      <td>Intuitively, a dimensionality reduction algori...</td>\n",
              "      <td>PCA</td>\n",
              "    </tr>\n",
              "  </tbody>\n",
              "</table>\n",
              "</div>"
            ],
            "text/plain": [
              "                                            Questions  ...       Labels\n",
              "0                     What do you mean by Clustering?  ...  Hierarchial\n",
              "1        What is a Hierarchical Clustering Algorithm?  ...  Hierarchial\n",
              "2   What are the various types of Hierarchical Clu...  ...  Hierarchial\n",
              "3   Explain the Agglomerative Hierarchical Cluster...  ...  Hierarchial\n",
              "4   Describe the Divisive Hierarchical Clustering ...  ...  Hierarchial\n",
              "5   Explain the different linkage methods used in ...  ...  Hierarchial\n",
              "6   List down the pros and cons of complete and si...  ...  Hierarchial\n",
              "7   What is the group average method for calculati...  ...  Hierarchial\n",
              "8   Explain Ward's method for calculating the simi...  ...  Hierarchial\n",
              "9   What is a dendrogram in Hierarchical Clusterin...  ...  Hierarchial\n",
              "10  Explain the working of dendrogram in the agglo...  ...  Hierarchial\n",
              "11  Explain the different parts of dendrograms in ...  ...  Hierarchial\n",
              "12  How can you find the clusters to have upon loo...  ...  Hierarchial\n",
              "13  What is Space and Time Complexity of the Hiera...  ...  Hierarchial\n",
              "14  List down some of the possible conditions for ...  ...  Hierarchial\n",
              "15  For the dendrogram given below, find the most ...  ...  Hierarchial\n",
              "16  What are the conditions to stop combining the ...  ...  Hierarchial\n",
              "17  How to Find the Optimal Number of Clusters in ...  ...  Hierarchial\n",
              "18  How can we measure the goodness of the cluster...  ...  Hierarchial\n",
              "19  What are the advantages and disadvantages of t...  ...  Hierarchial\n",
              "20              What is K means Clustering Algorithm?  ...      k_means\n",
              "21          What is Lloyd's algorithm for Clustering?  ...      k_means\n",
              "22  Is Feature Scaling required for the K means Al...  ...      k_means\n",
              "23  Why do you prefer Euclidean distance over Manh...  ...      k_means\n",
              "24  Why is the plot of the within-cluster sum of s...  ...      k_means\n",
              "25  Which metrics can you use to find the accuracy...  ...      k_means\n",
              "26    What is a centroid point in K means Clustering?  ...      k_means\n",
              "27  Does centroid initialization affect K means Al...  ...      k_means\n",
              "28  Discuss the optimization function for the K me...  ...      k_means\n",
              "29  What are the advantages and disadvantages of t...  ...      k_means\n",
              "30  What are the challenges associated with K mean...  ...      k_means\n",
              "31  What are the ways to avoid the problem of init...  ...      k_means\n",
              "32  What is the difference between K means and K m...  ...      k_means\n",
              "33          How K means++ clustering Algorithm works?  ...      k_means\n",
              "34  How to decide the optimal number of K in the K...  ...      k_means\n",
              "35  What is the training and testing complexity of...  ...      k_means\n",
              "36  Is it possible that the assignment of data poi...  ...      k_means\n",
              "37  Explain some cases where K means clustering fa...  ...      k_means\n",
              "38  How to perform K means on larger datasets to m...  ...      k_means\n",
              "39  What are the possible stopping conditions in t...  ...      k_means\n",
              "40  What is the effect of the number of variables ...  ...      k_means\n",
              "41               Explain the Curse of Dimensionality?  ...          PCA\n",
              "42  Why do we need dimensionality reduction? What ...  ...          PCA\n",
              "43  Explain Principal Component Analysis, assumpti...  ...          PCA\n",
              "44  Can PCA be used to reduce the dimensionality o...  ...          PCA\n",
              "45                                Limitations of PCA?  ...          PCA\n",
              "46  Is rotation necessary in PCA? If yes, Why? Wha...  ...          PCA\n",
              "47  Is it important to standardize before applying...  ...          PCA\n",
              "48  Should one remove highly correlated variables ...  ...          PCA\n",
              "49  What will happen when eigenvalues are roughly ...  ...          PCA\n",
              "50  How can you evaluate the performance of a dime...  ...          PCA\n",
              "\n",
              "[51 rows x 3 columns]"
            ]
          },
          "metadata": {},
          "execution_count": 16
        }
      ]
    },
    {
      "cell_type": "code",
      "metadata": {
        "id": "3lHoVvX9wU_J"
      },
      "source": [
        "supervised = pd.read_excel('/content/supervised_data.xlsx')"
      ],
      "execution_count": null,
      "outputs": []
    },
    {
      "cell_type": "code",
      "metadata": {
        "colab": {
          "base_uri": "https://localhost:8080/",
          "height": 205
        },
        "id": "kxZ8E86aAUtF",
        "outputId": "1bb9c1a8-10f7-4099-be26-fe7a789c5db9"
      },
      "source": [
        "data=unsupervised.append(supervised)\n",
        "data.head()"
      ],
      "execution_count": null,
      "outputs": [
        {
          "output_type": "execute_result",
          "data": {
            "text/html": [
              "<div>\n",
              "<style scoped>\n",
              "    .dataframe tbody tr th:only-of-type {\n",
              "        vertical-align: middle;\n",
              "    }\n",
              "\n",
              "    .dataframe tbody tr th {\n",
              "        vertical-align: top;\n",
              "    }\n",
              "\n",
              "    .dataframe thead th {\n",
              "        text-align: right;\n",
              "    }\n",
              "</style>\n",
              "<table border=\"1\" class=\"dataframe\">\n",
              "  <thead>\n",
              "    <tr style=\"text-align: right;\">\n",
              "      <th></th>\n",
              "      <th>Questions</th>\n",
              "      <th>Answers</th>\n",
              "      <th>Labels</th>\n",
              "    </tr>\n",
              "  </thead>\n",
              "  <tbody>\n",
              "    <tr>\n",
              "      <th>0</th>\n",
              "      <td>What do you mean by Clustering?</td>\n",
              "      <td>Clustering is an unsupervised machine learning...</td>\n",
              "      <td>Hierarchial</td>\n",
              "    </tr>\n",
              "    <tr>\n",
              "      <th>1</th>\n",
              "      <td>What is a Hierarchical Clustering Algorithm?</td>\n",
              "      <td>Hierarchical Clustering i.e, an unsupervised m...</td>\n",
              "      <td>Hierarchial</td>\n",
              "    </tr>\n",
              "    <tr>\n",
              "      <th>2</th>\n",
              "      <td>What are the various types of Hierarchical Clu...</td>\n",
              "      <td>The two different types of Hierarchical Cluste...</td>\n",
              "      <td>Hierarchial</td>\n",
              "    </tr>\n",
              "    <tr>\n",
              "      <th>3</th>\n",
              "      <td>Explain the Agglomerative Hierarchical Cluster...</td>\n",
              "      <td>Initially, each data point is considered as an...</td>\n",
              "      <td>Hierarchial</td>\n",
              "    </tr>\n",
              "    <tr>\n",
              "      <th>4</th>\n",
              "      <td>Describe the Divisive Hierarchical Clustering ...</td>\n",
              "      <td>In simple words, Divisive Hierarchical Cluster...</td>\n",
              "      <td>Hierarchial</td>\n",
              "    </tr>\n",
              "  </tbody>\n",
              "</table>\n",
              "</div>"
            ],
            "text/plain": [
              "                                           Questions  ...       Labels\n",
              "0                    What do you mean by Clustering?  ...  Hierarchial\n",
              "1       What is a Hierarchical Clustering Algorithm?  ...  Hierarchial\n",
              "2  What are the various types of Hierarchical Clu...  ...  Hierarchial\n",
              "3  Explain the Agglomerative Hierarchical Cluster...  ...  Hierarchial\n",
              "4  Describe the Divisive Hierarchical Clustering ...  ...  Hierarchial\n",
              "\n",
              "[5 rows x 3 columns]"
            ]
          },
          "metadata": {},
          "execution_count": 7
        }
      ]
    },
    {
      "cell_type": "code",
      "metadata": {
        "id": "FJ_p9lNlzIHv"
      },
      "source": [
        "#Export the combined dataframe to csv file\n",
        "data.to_csv('Questions_ans.csv',index=False)"
      ],
      "execution_count": null,
      "outputs": []
    }
  ]
}